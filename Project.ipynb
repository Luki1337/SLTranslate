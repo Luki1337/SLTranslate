{
 "cells": [
  {
   "cell_type": "code",
   "execution_count": 1,
   "id": "dab7d1fe-6f6c-48de-9da2-879bce96eb9e",
   "metadata": {},
   "outputs": [
    {
     "name": "stderr",
     "output_type": "stream",
     "text": [
      "/home/lukas/miniconda3/envs/practical_work/lib/python3.10/site-packages/torchvision/io/image.py:13: UserWarning: Failed to load image Python extension: '/home/lukas/miniconda3/envs/practical_work/lib/python3.10/site-packages/torchvision/image.so: undefined symbol: _ZN5torch3jit17parseSchemaOrNameERKNSt7__cxx1112basic_stringIcSt11char_traitsIcESaIcEEE'If you don't plan on using image functionality from `torchvision.io`, you can ignore this warning. Otherwise, there might be something wrong with your environment. Did you have `libjpeg` or `libpng` installed before building `torchvision` from source?\n",
      "  warn(\n",
      "2024-05-08 17:23:38.648769: I tensorflow/core/platform/cpu_feature_guard.cc:182] This TensorFlow binary is optimized to use available CPU instructions in performance-critical operations.\n",
      "To enable the following instructions: AVX2 FMA, in other operations, rebuild TensorFlow with the appropriate compiler flags.\n",
      "2024-05-08 17:23:39.273479: W tensorflow/compiler/tf2tensorrt/utils/py_utils.cc:38] TF-TRT Warning: Could not find TensorRT\n"
     ]
    }
   ],
   "source": [
    "import numpy as np\n",
    "import pandas as pd\n",
    "import os\n",
    "import glob\n",
    "import matplotlib.pyplot as plt\n",
    "from collections import Counter\n",
    "import torch\n",
    "import torch.nn as nn\n",
    "import torch.optim as optim\n",
    "import torch.nn.functional as F\n",
    "import torchvision\n",
    "from tqdm.notebook import tqdm\n",
    "from PIL import Image\n",
    "from collections import Counter\n",
    "from torch.utils.data import Dataset, DataLoader, random_split\n",
    "from torchvision import transforms\n",
    "from torch.utils.data import WeightedRandomSampler\n",
    "from torch.utils.tensorboard import SummaryWriter\n",
    "from torch.cuda.amp import autocast, GradScaler\n",
    "from pytorch_ranger import Ranger\n",
    "import csv\n",
    "import string\n",
    "import seaborn as sns\n",
    "#from config import Config\n",
    "import utils as utils\n",
    "import network as network\n",
    "from torchvision.models import efficientnet_b2, EfficientNet_B2_Weights\n",
    "import csv\n",
    "import random\n",
    "import warnings\n",
    "\n",
    "warnings.filterwarnings(\"ignore\")"
   ]
  },
  {
   "cell_type": "code",
   "execution_count": 2,
   "id": "aa489761-b219-4aeb-88ff-32a3f66004c0",
   "metadata": {},
   "outputs": [],
   "source": [
    "# set up cude if available\n",
    "device = torch.device('cuda' if torch.cuda.is_available() else 'cpu')"
   ]
  },
  {
   "cell_type": "code",
   "execution_count": 3,
   "id": "f4a6bfa2-dde5-43c4-882b-f13a5d924d79",
   "metadata": {},
   "outputs": [],
   "source": [
    "# Get the current working directory\n",
    "current_directory = os.getcwd()"
   ]
  },
  {
   "cell_type": "code",
   "execution_count": 4,
   "id": "00cd539b-569f-459a-8fba-70a36253de52",
   "metadata": {},
   "outputs": [
    {
     "data": {
      "text/plain": [
       "'/home/lukas/Schreibtisch/JKU/Master/Semester 4/AI-Systems/Project'"
      ]
     },
     "execution_count": 4,
     "metadata": {},
     "output_type": "execute_result"
    }
   ],
   "source": [
    "current_directory"
   ]
  },
  {
   "cell_type": "code",
   "execution_count": 5,
   "id": "32394f9c-f731-4e56-a39c-5306e8876f56",
   "metadata": {},
   "outputs": [
    {
     "name": "stdout",
     "output_type": "stream",
     "text": [
      "Path to the 'data' folder: /home/lukas/Schreibtisch/JKU/Master/Semester 4/AI-Systems/Project/archive\n"
     ]
    }
   ],
   "source": [
    "# Get the current working directory\n",
    "current_directory = os.getcwd()\n",
    "\n",
    "# Specify the name of the data folder\n",
    "data_folder_name = \"archive\"\n",
    "train_data_csv = \"sign_mnist_train.csv\"\n",
    "val_data_csv = \"sign_mnist_test.csv\"\n",
    "\n",
    "# Construct the path to the data folder\n",
    "data_folder_path = os.path.join(current_directory, data_folder_name)\n",
    "\n",
    "train_data_csv_path = os.path.join(data_folder_path, train_data_csv)\n",
    "val_data_csv_path = os.path.join(data_folder_path, val_data_csv)\n",
    "\n",
    "print(\"Path to the 'data' folder:\", data_folder_path)"
   ]
  },
  {
   "cell_type": "code",
   "execution_count": 6,
   "id": "6dc06382-95cd-4a20-a940-6e3c5136efb2",
   "metadata": {},
   "outputs": [
    {
     "data": {
      "text/plain": [
       "'/home/lukas/Schreibtisch/JKU/Master/Semester 4/AI-Systems/Project/archive/sign_mnist_train.csv'"
      ]
     },
     "execution_count": 6,
     "metadata": {},
     "output_type": "execute_result"
    }
   ],
   "source": [
    "train_data_csv_path"
   ]
  },
  {
   "cell_type": "code",
   "execution_count": 7,
   "id": "482844c0-792c-4845-8518-e2e8f392835e",
   "metadata": {},
   "outputs": [
    {
     "name": "stdout",
     "output_type": "stream",
     "text": [
      "Training images has shape: (27455, 28, 28) and dtype: float64\n",
      "Training labels has shape: (27455,) and dtype: float64\n",
      "Validation images has shape: (7172, 28, 28) and dtype: float64\n",
      "Validation labels has shape: (7172,) and dtype: float64\n"
     ]
    }
   ],
   "source": [
    "training_images, training_labels = utils.parse_data_from_input(train_data_csv_path)\n",
    "validation_images, validation_labels = utils.parse_data_from_input(val_data_csv_path)\n",
    "\n",
    "print(f\"Training images has shape: {training_images.shape} and dtype: {training_images.dtype}\")\n",
    "print(f\"Training labels has shape: {training_labels.shape} and dtype: {training_labels.dtype}\")\n",
    "print(f\"Validation images has shape: {validation_images.shape} and dtype: {validation_images.dtype}\")\n",
    "print(f\"Validation labels has shape: {validation_labels.shape} and dtype: {validation_labels.dtype}\")"
   ]
  },
  {
   "cell_type": "code",
   "execution_count": 8,
   "id": "e2be4db2-89c6-4f3c-a746-e204bc288b38",
   "metadata": {},
   "outputs": [
    {
     "data": {
      "image/png": "[encoded data removed]",
      "text/plain": [
       "<Figure size 1600x1500 with 10 Axes>"
      ]
     },
     "metadata": {},
     "output_type": "display_data"
    }
   ],
   "source": [
    "utils.plot_categories(training_images, training_labels)"
   ]
  },
  {
   "cell_type": "code",
   "execution_count": 9,
   "id": "cbe61400-a57f-45ba-8624-30869873b8b8",
   "metadata": {},
   "outputs": [],
   "source": [
    "# Define the required parameters for normalization\n",
    "normalize_mean = [0.485, 0.456, 0.406]\n",
    "normalize_std = [0.229, 0.224, 0.225]\n",
    "resize_size = 256\n",
    "crop_size = 224\n",
    "\n",
    "# Define custom transformation function\n",
    "def custom_transform(image):\n",
    "    # Convert numpy array to PIL Image\n",
    "    image = Image.fromarray(np.uint8(image.squeeze()))\n",
    "    return image\n",
    "\n",
    "# Define transformation pipeline\n",
    "train_transform = transforms.Compose([\n",
    "    custom_transform,\n",
    "    transforms.RandomHorizontalFlip(p=0.5),\n",
    "    transforms.RandomRotation(degrees=10),\n",
    "    transforms.RandomResizedCrop(size=(48, 48), scale=(0.8, 1.2), ratio=(0.9, 1.1)),\n",
    "    transforms.RandomAffine(degrees=10, scale=(0.9, 1.1), shear=1),\n",
    "    transforms.Resize(resize_size, interpolation=Image.BICUBIC),\n",
    "    transforms.CenterCrop(crop_size),\n",
    "    transforms.Grayscale(num_output_channels=3),\n",
    "    transforms.ToTensor(),\n",
    "    transforms.Normalize(mean=normalize_mean, std=normalize_std)\n",
    "])\n",
    "\n",
    "\n",
    "val_transform = transforms.Compose([\n",
    "    custom_transform,\n",
    "    transforms.Resize(resize_size, interpolation=Image.BICUBIC),\n",
    "    transforms.CenterCrop(crop_size),\n",
    "    transforms.Grayscale(num_output_channels=3),\n",
    "    transforms.ToTensor(),\n",
    "    transforms.Normalize(mean=normalize_mean, std=normalize_std)\n",
    "])"
   ]
  },
  {
   "cell_type": "code",
   "execution_count": 10,
   "id": "887f87e9-0007-4c55-b91d-bdd4a20920ba",
   "metadata": {},
   "outputs": [],
   "source": [
    "train_dataset = utils.CustomDataset(training_images, training_labels, train_transform)\n",
    "val_dataset = utils.CustomDataset(validation_images, validation_labels, val_transform)"
   ]
  },
  {
   "cell_type": "code",
   "execution_count": 11,
   "id": "d50539e3-989f-490e-8c42-866c5bfc3d23",
   "metadata": {},
   "outputs": [
    {
     "name": "stdout",
     "output_type": "stream",
     "text": [
      "Length Train Dataset: 27455\n",
      "Length Validation Dataset: 7172\n"
     ]
    }
   ],
   "source": [
    "print(f\"Length Train Dataset: {len(train_dataset)}\")\n",
    "print(f\"Length Validation Dataset: {len(val_dataset)}\")"
   ]
  },
  {
   "cell_type": "code",
   "execution_count": 12,
   "id": "33b82905-647b-446b-8109-115df8a87406",
   "metadata": {},
   "outputs": [],
   "source": [
    "batch_size = 32 #128\n",
    "\n",
    "train_dataloader = DataLoader(train_dataset, batch_size, drop_last=True)\n",
    "val_dataloader = DataLoader(val_dataset, batch_size, drop_last=True)"
   ]
  },
  {
   "cell_type": "code",
   "execution_count": 13,
   "id": "40bca390-971e-4505-b105-ec4884a09027",
   "metadata": {},
   "outputs": [
    {
     "data": {
      "text/html": [
       "\n",
       "      <iframe id=\"tensorboard-frame-3857618aea176c16\" width=\"100%\" height=\"800\" frameborder=\"0\">\n",
       "      </iframe>\n",
       "      <script>\n",
       "        (function() {\n",
       "          const frame = document.getElementById(\"tensorboard-frame-3857618aea176c16\");\n",
       "          const url = new URL(\"/\", window.location);\n",
       "          const port = 6006;\n",
       "          if (port) {\n",
       "            url.port = port;\n",
       "          }\n",
       "          frame.src = url;\n",
       "        })();\n",
       "      </script>\n",
       "    "
      ],
      "text/plain": [
       "<IPython.core.display.HTML object>"
      ]
     },
     "metadata": {},
     "output_type": "display_data"
    }
   ],
   "source": [
    "# load tensorboard\n",
    "%load_ext tensorboard\n",
    "%tensorboard --logdir=runs"
   ]
  },
  {
   "cell_type": "code",
   "execution_count": 14,
   "id": "d51a295b-ec81-4c87-82d1-fb792524d8a5",
   "metadata": {},
   "outputs": [
    {
     "name": "stdout",
     "output_type": "stream",
     "text": [
      "Initial Stats: \n",
      "\n"
     ]
    },
    {
     "name": "stderr",
     "output_type": "stream",
     "text": [
      "                                                                                \r"
     ]
    },
    {
     "name": "stdout",
     "output_type": "stream",
     "text": [
      "Train Loss: 3.2773, Train Accuracy: 0.0338\n",
      "Validation Loss: 3.2947, Validation Accuracy: 0.0587\n",
      "--------------------------------------------------\n",
      "\n",
      "Starting training: \n",
      "\n"
     ]
    },
    {
     "name": "stderr",
     "output_type": "stream",
     "text": [
      "                                                                                \r"
     ]
    },
    {
     "name": "stdout",
     "output_type": "stream",
     "text": [
      "Epoch 5/25 ==> Train Loss: 2.5727, Train Accuracy: 0.5855 Validation Loss: 2.5221, Validation Accuracy: 0.5812\n"
     ]
    },
    {
     "name": "stderr",
     "output_type": "stream",
     "text": [
      "                                                                                "
     ]
    },
    {
     "name": "stdout",
     "output_type": "stream",
     "text": [
      "No improvement for 5 consecutive epochs. Stopping training.\n"
     ]
    },
    {
     "name": "stderr",
     "output_type": "stream",
     "text": [
      "\r"
     ]
    }
   ],
   "source": [
    "# set up some hyperparams and saving paths\n",
    "learning_rate = 0.001\n",
    "save_path = 'models/best_model_frozen.pth'\n",
    "epochs = 25\n",
    "writer = SummaryWriter(log_dir=\"runs/experiment_frozen\", comment='frozen')\n",
    "\n",
    "# Initialize model, loss function, optimizer\n",
    "model, _ = network.create_network(freeze_pretrained=True)\n",
    "model = model.to(device)\n",
    "\n",
    "criterion = nn.CrossEntropyLoss()\n",
    "optimizer = Ranger(model.parameters())\n",
    "scaler = GradScaler()\n",
    "scheduler = torch.optim.lr_scheduler.CyclicLR(optimizer, base_lr=0.01, max_lr=0.1, cycle_momentum=False)\n",
    "                                              \n",
    "# early stopping\n",
    "patience = 5\n",
    "\n",
    "# # Start the training loop\n",
    "#utils.train(train_dataloader, val_dataloader, model, criterion, optimizer, epochs, save_path, writer, device, scaler, scheduler, patience)"
   ]
  },
  {
   "cell_type": "code",
   "execution_count": null,
   "id": "42591d62-b1d5-4f04-adce-326c1204f70f",
   "metadata": {},
   "outputs": [],
   "source": []
  },
  {
   "cell_type": "code",
   "execution_count": null,
   "id": "748c5bb5-8d8c-460a-95a3-65aa6f51264e",
   "metadata": {},
   "outputs": [],
   "source": []
  },
  {
   "cell_type": "code",
   "execution_count": 15,
   "id": "85d2bcd3-13cb-4212-8b2a-0ab9bc149ddd",
   "metadata": {},
   "outputs": [],
   "source": [
    "model, _ = network.create_network(freeze_pretrained=False)\n",
    "model.load_state_dict(torch.load('models/best_model_frozen.pth'))\n",
    "model = model.to(device)"
   ]
  },
  {
   "cell_type": "code",
   "execution_count": 16,
   "id": "629b580f-b4a7-4dc3-a98a-7e9f1c2820d2",
   "metadata": {},
   "outputs": [
    {
     "name": "stdout",
     "output_type": "stream",
     "text": [
      "Initial Stats: \n",
      "\n"
     ]
    },
    {
     "name": "stderr",
     "output_type": "stream",
     "text": [
      "                                                                                \r"
     ]
    },
    {
     "name": "stdout",
     "output_type": "stream",
     "text": [
      "Train Loss: 1.2594, Train Accuracy: 0.6397\n",
      "Validation Loss: 1.6157, Validation Accuracy: 0.5698\n",
      "--------------------------------------------------\n",
      "\n",
      "Starting training: \n",
      "\n"
     ]
    },
    {
     "name": "stderr",
     "output_type": "stream",
     "text": [
      "                                                                                \r"
     ]
    },
    {
     "name": "stdout",
     "output_type": "stream",
     "text": [
      "Epoch 5/100 ==> Train Loss: 0.2026, Train Accuracy: 0.9546 Validation Loss: 1.3613, Validation Accuracy: 0.7857\n"
     ]
    },
    {
     "name": "stderr",
     "output_type": "stream",
     "text": [
      "                                                                                \r"
     ]
    },
    {
     "name": "stdout",
     "output_type": "stream",
     "text": [
      "Epoch 10/100 ==> Train Loss: 0.1600, Train Accuracy: 0.9714 Validation Loss: 0.2640, Validation Accuracy: 0.9508\n"
     ]
    },
    {
     "name": "stderr",
     "output_type": "stream",
     "text": [
      "                                                                                \r"
     ]
    },
    {
     "name": "stdout",
     "output_type": "stream",
     "text": [
      "Epoch 15/100 ==> Train Loss: 0.1327, Train Accuracy: 0.9806 Validation Loss: 0.4918, Validation Accuracy: 0.9358\n"
     ]
    },
    {
     "name": "stderr",
     "output_type": "stream",
     "text": [
      "                                                                                \r"
     ]
    },
    {
     "name": "stdout",
     "output_type": "stream",
     "text": [
      "Epoch 20/100 ==> Train Loss: 0.0996, Train Accuracy: 0.9852 Validation Loss: 0.1061, Validation Accuracy: 0.9845\n"
     ]
    },
    {
     "name": "stderr",
     "output_type": "stream",
     "text": [
      "                                                                                \r"
     ]
    },
    {
     "name": "stdout",
     "output_type": "stream",
     "text": [
      "Epoch 25/100 ==> Train Loss: 0.0787, Train Accuracy: 0.9890 Validation Loss: 0.1709, Validation Accuracy: 0.9784\n"
     ]
    },
    {
     "name": "stderr",
     "output_type": "stream",
     "text": [
      "                                                                                \r"
     ]
    },
    {
     "name": "stdout",
     "output_type": "stream",
     "text": [
      "Epoch 30/100 ==> Train Loss: 0.0668, Train Accuracy: 0.9911 Validation Loss: 0.2000, Validation Accuracy: 0.9741\n"
     ]
    },
    {
     "name": "stderr",
     "output_type": "stream",
     "text": [
      "                                                                                \r"
     ]
    },
    {
     "name": "stdout",
     "output_type": "stream",
     "text": [
      "Epoch 35/100 ==> Train Loss: 0.0686, Train Accuracy: 0.9911 Validation Loss: 0.5260, Validation Accuracy: 0.9337\n"
     ]
    },
    {
     "name": "stderr",
     "output_type": "stream",
     "text": [
      "                                                                                \r"
     ]
    },
    {
     "name": "stdout",
     "output_type": "stream",
     "text": [
      "Epoch 40/100 ==> Train Loss: 0.0650, Train Accuracy: 0.9922 Validation Loss: 0.3434, Validation Accuracy: 0.9879\n"
     ]
    },
    {
     "name": "stderr",
     "output_type": "stream",
     "text": [
      "                                                                                \r"
     ]
    },
    {
     "name": "stdout",
     "output_type": "stream",
     "text": [
      "Epoch 45/100 ==> Train Loss: 0.0366, Train Accuracy: 0.9946 Validation Loss: 0.0475, Validation Accuracy: 0.9933\n"
     ]
    },
    {
     "name": "stderr",
     "output_type": "stream",
     "text": [
      "                                                                                "
     ]
    },
    {
     "name": "stdout",
     "output_type": "stream",
     "text": [
      "No improvement for 10 consecutive epochs. Stopping training.\n"
     ]
    },
    {
     "name": "stderr",
     "output_type": "stream",
     "text": [
      "\r"
     ]
    }
   ],
   "source": [
    "# set up some hyperparams and saving paths\n",
    "learning_rate = 0.001\n",
    "save_path = 'models/best_model_finetuned.pth'\n",
    "epochs = 100\n",
    "writer = SummaryWriter(log_dir=\"runs/experiment_finetuned\", comment='finetuned')\n",
    "\n",
    "# loss function, optimizer\n",
    "criterion = nn.CrossEntropyLoss()\n",
    "optimizer = Ranger(model.parameters())\n",
    "scaler = GradScaler()\n",
    "scheduler = torch.optim.lr_scheduler.CyclicLR(optimizer, base_lr=0.01, max_lr=0.1, cycle_momentum=False)\n",
    "\n",
    "# early stopping\n",
    "patience = 10\n",
    "\n",
    "# Start the training loop\n",
    "utils.train(train_dataloader, val_dataloader, model, criterion, optimizer, epochs, save_path, writer, device, scaler, scheduler, patience)"
   ]
  },
  {
   "cell_type": "code",
   "execution_count": null,
   "id": "17868fcd-a66e-4e70-8602-a7c6690df3a0",
   "metadata": {},
   "outputs": [],
   "source": []
  },
  {
   "cell_type": "code",
   "execution_count": null,
   "id": "e80283b7-4a98-4a81-82a0-1d9d07808fd5",
   "metadata": {},
   "outputs": [],
   "source": []
  }
 ],
 "metadata": {
  "kernelspec": {
   "display_name": "Python 3 (ipykernel)",
   "language": "python",
   "name": "python3"
  },
  "language_info": {
   "codemirror_mode": {
    "name": "ipython",
    "version": 3
   },
   "file_extension": ".py",
   "mimetype": "text/x-python",
   "name": "python",
   "nbconvert_exporter": "python",
   "pygments_lexer": "ipython3",
   "version": "3.11.5"
  }
 },
 "nbformat": 4,
 "nbformat_minor": 5
}
